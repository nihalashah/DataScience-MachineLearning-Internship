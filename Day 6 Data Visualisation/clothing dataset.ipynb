{
 "cells": [
  {
   "cell_type": "code",
   "execution_count": 1,
   "id": "45c7e817",
   "metadata": {},
   "outputs": [],
   "source": [
    "import pandas as pd"
   ]
  },
  {
   "cell_type": "code",
   "execution_count": 2,
   "id": "f5ef3bb2",
   "metadata": {},
   "outputs": [
    {
     "data": {
      "text/html": [
       "<div>\n",
       "<style scoped>\n",
       "    .dataframe tbody tr th:only-of-type {\n",
       "        vertical-align: middle;\n",
       "    }\n",
       "\n",
       "    .dataframe tbody tr th {\n",
       "        vertical-align: top;\n",
       "    }\n",
       "\n",
       "    .dataframe thead th {\n",
       "        text-align: right;\n",
       "    }\n",
       "</style>\n",
       "<table border=\"1\" class=\"dataframe\">\n",
       "  <thead>\n",
       "    <tr style=\"text-align: right;\">\n",
       "      <th></th>\n",
       "      <th>ProductID</th>\n",
       "      <th>UserID</th>\n",
       "      <th>Rating</th>\n",
       "      <th>Text</th>\n",
       "    </tr>\n",
       "  </thead>\n",
       "  <tbody>\n",
       "    <tr>\n",
       "      <th>0</th>\n",
       "      <td>777</td>\n",
       "      <td>AV1YnR7wglJLPUi8IJmi</td>\n",
       "      <td>4</td>\n",
       "      <td>Great taffy at a great price.</td>\n",
       "    </tr>\n",
       "    <tr>\n",
       "      <th>1</th>\n",
       "      <td>767</td>\n",
       "      <td>AVpfpK8KLJeJML43BCuD</td>\n",
       "      <td>4</td>\n",
       "      <td>Absolutely wonderful - silky and sexy and comf...</td>\n",
       "    </tr>\n",
       "    <tr>\n",
       "      <th>2</th>\n",
       "      <td>1080</td>\n",
       "      <td>AVqkIdntQMlgsOJE6fuB</td>\n",
       "      <td>5</td>\n",
       "      <td>Love this dress! it's sooo pretty.</td>\n",
       "    </tr>\n",
       "    <tr>\n",
       "      <th>3</th>\n",
       "      <td>1077</td>\n",
       "      <td>AVpfpK8KLJeJML43BCuD</td>\n",
       "      <td>3</td>\n",
       "      <td>I had such high hopes for this dress and reall...</td>\n",
       "    </tr>\n",
       "    <tr>\n",
       "      <th>4</th>\n",
       "      <td>1049</td>\n",
       "      <td>AVpfpK8KLJeJML43BCuD</td>\n",
       "      <td>5</td>\n",
       "      <td>I love, love, love this jumpsuit. it's fun, fl...</td>\n",
       "    </tr>\n",
       "    <tr>\n",
       "      <th>...</th>\n",
       "      <td>...</td>\n",
       "      <td>...</td>\n",
       "      <td>...</td>\n",
       "      <td>...</td>\n",
       "    </tr>\n",
       "    <tr>\n",
       "      <th>629</th>\n",
       "      <td>823</td>\n",
       "      <td>B08GWV3SM6</td>\n",
       "      <td>1</td>\n",
       "      <td>I placed order 4+1 soaps.But I have received w...</td>\n",
       "    </tr>\n",
       "    <tr>\n",
       "      <th>630</th>\n",
       "      <td>823</td>\n",
       "      <td>B08GWV3SM6</td>\n",
       "      <td>3</td>\n",
       "      <td>The soap is ok for bathing, no scent at all, m...</td>\n",
       "    </tr>\n",
       "    <tr>\n",
       "      <th>631</th>\n",
       "      <td>847</td>\n",
       "      <td>B08GWV3SM6</td>\n",
       "      <td>5</td>\n",
       "      <td>For a long time I was searching for Indian soa...</td>\n",
       "    </tr>\n",
       "    <tr>\n",
       "      <th>632</th>\n",
       "      <td>910</td>\n",
       "      <td>AVph0EeEilAPnD_x9myq</td>\n",
       "      <td>3</td>\n",
       "      <td>Good but not great</td>\n",
       "    </tr>\n",
       "    <tr>\n",
       "      <th>633</th>\n",
       "      <td>333</td>\n",
       "      <td>AVqkIdntQMlgsOJE6fuB</td>\n",
       "      <td>5</td>\n",
       "      <td>Quick,easy to make &amp; tasty too.</td>\n",
       "    </tr>\n",
       "  </tbody>\n",
       "</table>\n",
       "<p>634 rows × 4 columns</p>\n",
       "</div>"
      ],
      "text/plain": [
       "     ProductID                UserID  Rating  \\\n",
       "0          777  AV1YnR7wglJLPUi8IJmi       4   \n",
       "1          767  AVpfpK8KLJeJML43BCuD       4   \n",
       "2         1080  AVqkIdntQMlgsOJE6fuB       5   \n",
       "3         1077  AVpfpK8KLJeJML43BCuD       3   \n",
       "4         1049  AVpfpK8KLJeJML43BCuD       5   \n",
       "..         ...                   ...     ...   \n",
       "629        823            B08GWV3SM6       1   \n",
       "630        823            B08GWV3SM6       3   \n",
       "631        847            B08GWV3SM6       5   \n",
       "632        910  AVph0EeEilAPnD_x9myq       3   \n",
       "633        333  AVqkIdntQMlgsOJE6fuB       5   \n",
       "\n",
       "                                                  Text  \n",
       "0                        Great taffy at a great price.  \n",
       "1    Absolutely wonderful - silky and sexy and comf...  \n",
       "2                   Love this dress! it's sooo pretty.  \n",
       "3    I had such high hopes for this dress and reall...  \n",
       "4    I love, love, love this jumpsuit. it's fun, fl...  \n",
       "..                                                 ...  \n",
       "629  I placed order 4+1 soaps.But I have received w...  \n",
       "630  The soap is ok for bathing, no scent at all, m...  \n",
       "631  For a long time I was searching for Indian soa...  \n",
       "632                                 Good but not great  \n",
       "633                    Quick,easy to make & tasty too.  \n",
       "\n",
       "[634 rows x 4 columns]"
      ]
     },
     "execution_count": 2,
     "metadata": {},
     "output_type": "execute_result"
    }
   ],
   "source": [
    "clothing=pd.read_csv('cloths-rating.csv')\n",
    "clothing"
   ]
  },
  {
   "cell_type": "code",
   "execution_count": 8,
   "id": "ead9ab92",
   "metadata": {},
   "outputs": [
    {
     "data": {
      "text/plain": [
       "array([ 777,  767, 1080, 1077, 1049,  847,  858, 1095, 1065,  853, 1120,\n",
       "        697,  949, 1003,  684,  444, 1060, 1002,  862,  910,   89,  823,\n",
       "       6969, 9696,  333, 8001,  369], dtype=int64)"
      ]
     },
     "execution_count": 8,
     "metadata": {},
     "output_type": "execute_result"
    }
   ],
   "source": [
    "clothing1=clothing.ProductID.unique()\n",
    "clothing1"
   ]
  },
  {
   "cell_type": "code",
   "execution_count": 9,
   "id": "3e58adae",
   "metadata": {},
   "outputs": [
    {
     "data": {
      "text/plain": [
       "array(['AV1YnR7wglJLPUi8IJmi', 'AVpfpK8KLJeJML43BCuD',\n",
       "       'AVqkIdntQMlgsOJE6fuB', 'AVph0EeEilAPnD_x9myq',\n",
       "       'AVzvXXwEvKc47QAVfRhx', 'AVpf_4sUilAPnD_xlwYV',\n",
       "       'AVpgdkC8ilAPnD_xsvyi', 'AVqkEM34QMlgsOJE6e8q',\n",
       "       'AVpfIfGA1cnluZ0-emyp', 'AVphLY7v1cnluZ0-_Ty0', 'B00BV5FHKG',\n",
       "       'B01CJUK8PU', 'B00R60PBTC', 'AVsRjfwAU2_QcyX9PHqe', 'B00ULPQTXQ',\n",
       "       'B012SPKP9U', 'AVqVGZNvQMlgsOJE6eUY', 'AVpfwS_CLJeJML43DH5w',\n",
       "       'AVphgVaX1cnluZ0-DR74', 'AVqVGZN9QMlgsOJE6eUZ',\n",
       "       'AVpftoij1cnluZ0-p5n2', 'AVqkIhxunnc1JgDc3kg_', 'B01H70ZVIQ',\n",
       "       'B071VPLC99', 'B071WRP912', 'B075P2RKDG', 'B078X5298B',\n",
       "       'B079TXZ142', 'B07DCXBQPV', 'B07FPSB76P', 'B07H3V7LNR',\n",
       "       'B07MKNRBFS', 'B07MXKMWT5', 'B07NLR9YPZ', 'B07Q2B5Z9D',\n",
       "       'B07S55SML2', 'B07VYRQFBJ', 'B0818ZYVH1', 'B082KY37BL',\n",
       "       'B0832PGNNH', 'B08DLL7C2D', 'B08GWV3SM6'], dtype=object)"
      ]
     },
     "execution_count": 9,
     "metadata": {},
     "output_type": "execute_result"
    }
   ],
   "source": [
    "clothing2=clothing.UserID.unique()\n",
    "clothing2"
   ]
  },
  {
   "cell_type": "code",
   "execution_count": 15,
   "id": "926ec9ed",
   "metadata": {},
   "outputs": [
    {
     "data": {
      "text/plain": [
       "<pandas.core.groupby.generic.DataFrameGroupBy object at 0x000001A7751FFF10>"
      ]
     },
     "execution_count": 15,
     "metadata": {},
     "output_type": "execute_result"
    }
   ],
   "source": [
    "rating = clothing[clothing['Rating'] > 3].groupby([clothing['UserID']])\n",
    "rating"
   ]
  },
  {
   "cell_type": "code",
   "execution_count": null,
   "id": "cb8af530",
   "metadata": {},
   "outputs": [],
   "source": []
  }
 ],
 "metadata": {
  "kernelspec": {
   "display_name": "Python 3 (ipykernel)",
   "language": "python",
   "name": "python3"
  },
  "language_info": {
   "codemirror_mode": {
    "name": "ipython",
    "version": 3
   },
   "file_extension": ".py",
   "mimetype": "text/x-python",
   "name": "python",
   "nbconvert_exporter": "python",
   "pygments_lexer": "ipython3",
   "version": "3.9.7"
  }
 },
 "nbformat": 4,
 "nbformat_minor": 5
}
